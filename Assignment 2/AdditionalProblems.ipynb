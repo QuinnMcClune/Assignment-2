{
 "cells": [
  {
   "cell_type": "markdown",
   "metadata": {},
   "source": [
    "## Problem 1 \n",
    "### a) 5%  613.91     \n",
    "### b) 10% 385.54\n",
    "### c) 15% 247.18\n",
    "#### change the ytm to the correct a,b,c"
   ]
  },
  {
   "cell_type": "code",
   "execution_count": 9,
   "metadata": {},
   "outputs": [
    {
     "name": "stdout",
     "output_type": "stream",
     "text": [
      "The bond price is: $247.18\n"
     ]
    }
   ],
   "source": [
    "import numpy as np\n",
    "\n",
    "def bond_factory(face: float, coupon: float, frequency: int, maturity: int) -> np.ndarray:\n",
    "    the_bond = np.full(maturity * frequency, (coupon * face) / frequency)\n",
    "    the_bond[-1]+= face\n",
    "    return the_bond\n",
    "\n",
    "def bond_price(rate: float, the_bond: np.ndarray) -> float:\n",
    "    disc = np.array([1.0 / ((1.0 + rate) ** i) for i in range(1, the_bond.shape[0] + 1)])\n",
    "    return np.sum(disc * the_bond)\n",
    "\n",
    "face_value = 1000.0\n",
    "coupon_rate = 0\n",
    "frequency = 1\n",
    "maturity = 10\n",
    "ytm = .15 / frequency\n",
    "# change ytm based on the ytm of the bond\n",
    "\n",
    "the_bond = bond_factory(face_value, coupon_rate, frequency, maturity)\n",
    "the_price = bond_price(ytm, the_bond)\n",
    "print(f\"The bond price is: ${the_price:,.2f}\")"
   ]
  },
  {
   "cell_type": "markdown",
   "metadata": {},
   "source": [
    "## Problem 2 YTM\n",
    "### a) 7% 1000\n",
    "### b) 9% 802.38\n",
    "### c) 5% 1283.62"
   ]
  },
  {
   "cell_type": "code",
   "execution_count": 8,
   "metadata": {},
   "outputs": [
    {
     "name": "stdout",
     "output_type": "stream",
     "text": [
      "The bond price is: $1,283.62\n"
     ]
    }
   ],
   "source": [
    "import numpy as np\n",
    "\n",
    "def bond_factory(face: float, coupon: float, frequency: int, maturity: int) -> np.ndarray:\n",
    "    the_bond = np.full(maturity * frequency, (coupon * face) / frequency)\n",
    "    the_bond[-1]+= face\n",
    "    return the_bond\n",
    "\n",
    "def bond_price(rate: float, the_bond: np.ndarray) -> float:\n",
    "    disc = np.array([1.0 / ((1.0 + rate) ** i) for i in range(1, the_bond.shape[0] + 1)])\n",
    "    return np.sum(disc * the_bond)\n",
    "\n",
    "face_value = 1000.0\n",
    "coupon_rate = .07\n",
    "frequency = 2\n",
    "maturity = 25\n",
    "ytm = .05 / frequency\n",
    "# change ytm based on the ytm of the bond\n",
    "\n",
    "the_bond = bond_factory(face_value, coupon_rate, frequency, maturity)\n",
    "the_price = bond_price(ytm, the_bond)\n",
    "print(f\"The bond price is: ${the_price:,.2f}\")"
   ]
  },
  {
   "cell_type": "markdown",
   "metadata": {},
   "source": [
    "## Problem 3\n",
    "### (answer) 7.09%"
   ]
  },
  {
   "cell_type": "code",
   "execution_count": 12,
   "metadata": {},
   "outputs": [
    {
     "name": "stdout",
     "output_type": "stream",
     "text": [
      "(0, 0.07093412373433239)\n"
     ]
    }
   ],
   "source": [
    "import numpy as np\n",
    "\n",
    "def bond_factory(face: float, coupon: float, frequency: int, maturity: float) -> np.ndarray:\n",
    "    bond = np.full(int(maturity * frequency), (coupon * face) / frequency)\n",
    "    bond[-1] += face\n",
    "    return bond\n",
    "\n",
    "def bond_price(rate:float, the_bond: np.ndarray) -> float:\n",
    "    disc = np.array([1.0 / ((1.0 + rate) ** i) for i in range(1, the_bond.shape[0] + 1)])\n",
    "    return np.sum(disc * the_bond)\n",
    "\n",
    "def bond_yield(rate: float, the_bond: np.ndarray) -> float:\n",
    "    lower = 0.0\n",
    "    upper = 2.0\n",
    "    guess = 0.5 * (lower + upper)\n",
    "    tolerance = 10.0 ** -8\n",
    "    guess_price = bond_price(guess, the_bond)\n",
    "    diff = target_price - guess_price\n",
    "    tries = 0\n",
    "    \n",
    "    while abs(diff) >= tolerance:\n",
    "        if diff <= 0.0:\n",
    "            lower = guess\n",
    "        else:\n",
    "            upper = guess\n",
    "        guess = 0.5 * (lower + upper)\n",
    "        diff = target_price - bond_price(guess, the_bond)\n",
    "        tries += 1\n",
    "        \n",
    "    return guess\n",
    "\n",
    "face = 1000\n",
    "coupon_rate = .078\n",
    "maturity = 10\n",
    "frequency = 2\n",
    "\n",
    "a_bond = bond_factory(face, coupon_rate, frequency, maturity)\n",
    "\n",
    "the_price = bond_price(.05, a_bond)\n",
    "\n",
    "guess_rate = 0.001\n",
    "guess_price = bond_price(guess_rate, a_bond)\n",
    "increment = 0.001\n",
    "tries = 0\n",
    "target_price = 1050\n",
    "diff = target_price - guess_price\n",
    "tolerance = 10.0 ** -2\n",
    "\n",
    "while True:\n",
    "    if diff <= tolerance:\n",
    "        break\n",
    "    else:\n",
    "        tries += 1\n",
    "        print((tries, guess_rate, guess_price))\n",
    "        guess_rate =+ 0.001\n",
    "        guess_price = bond_price(guess_rate, a_bond)\n",
    "        diff = target_price - guess_price\n",
    "        \n",
    "result = bond_yield(1050, a_bond)\n",
    "print((tries, result * 2))"
   ]
  },
  {
   "cell_type": "markdown",
   "metadata": {},
   "source": [
    "## Problem 4\n",
    "### answer 8.03%"
   ]
  },
  {
   "cell_type": "code",
   "execution_count": 13,
   "metadata": {},
   "outputs": [
    {
     "name": "stdout",
     "output_type": "stream",
     "text": [
      "(0, 0.08032788999116747)\n"
     ]
    }
   ],
   "source": [
    "import numpy as np\n",
    "\n",
    "def bond_factory(face: float, coupon: float, frequency: int, maturity: float) -> np.ndarray:\n",
    "    bond = np.full(int(maturity * frequency), (coupon * face) / frequency)\n",
    "    bond[-1] += face\n",
    "    return bond\n",
    "\n",
    "def bond_price(rate:float, the_bond: np.ndarray) -> float:\n",
    "    disc = np.array([1.0 / ((1.0 + rate) ** i) for i in range(1, the_bond.shape[0] + 1)])\n",
    "    return np.sum(disc * the_bond)\n",
    "\n",
    "def bond_yield(rate: float, the_bond: np.ndarray) -> float:\n",
    "    lower = 0.0\n",
    "    upper = 2.0\n",
    "    guess = 0.5 * (lower + upper)\n",
    "    tolerance = 10.0 ** -8\n",
    "    guess_price = bond_price(guess, the_bond)\n",
    "    diff = target_price - guess_price\n",
    "    tries = 0\n",
    "    \n",
    "    while abs(diff) >= tolerance:\n",
    "        if diff <= 0.0:\n",
    "            lower = guess\n",
    "        else:\n",
    "            upper = guess\n",
    "        guess = 0.5 * (lower + upper)\n",
    "        diff = target_price - bond_price(guess, the_bond)\n",
    "        tries += 1\n",
    "        \n",
    "    return guess\n",
    "\n",
    "face = 1000\n",
    "coupon_rate = .074\n",
    "maturity = 9\n",
    "frequency = 2\n",
    "\n",
    "a_bond = bond_factory(face, coupon_rate, frequency, maturity)\n",
    "\n",
    "the_price = bond_price(.05, a_bond)\n",
    "\n",
    "guess_rate = 0.001\n",
    "guess_price = bond_price(guess_rate, a_bond)\n",
    "increment = 0.001\n",
    "tries = 0\n",
    "target_price = 960\n",
    "diff = target_price - guess_price\n",
    "tolerance = 10.0 ** -2\n",
    "\n",
    "while True:\n",
    "    if diff <= tolerance:\n",
    "        break\n",
    "    else:\n",
    "        tries += 1\n",
    "        print((tries, guess_rate, guess_price))\n",
    "        guess_rate =+ 0.001\n",
    "        guess_price = bond_price(guess_rate, a_bond)\n",
    "        diff = target_price - guess_price\n",
    "        \n",
    "result = bond_yield(960, a_bond)\n",
    "print((tries, result * 2))"
   ]
  },
  {
   "cell_type": "markdown",
   "metadata": {},
   "source": [
    "## Problem 5\n",
    "### answer 9.3%"
   ]
  },
  {
   "cell_type": "code",
   "execution_count": 22,
   "metadata": {},
   "outputs": [
    {
     "name": "stdout",
     "output_type": "stream",
     "text": [
      "(0, 0.09300524089121609)\n"
     ]
    }
   ],
   "source": [
    "import numpy as np\n",
    "\n",
    "def bond_factory(face: float, coupon: float, frequency: int, maturity: float) -> np.ndarray:\n",
    "    bond = np.full(int(maturity * frequency), (coupon * face) / frequency)\n",
    "    bond[-1] += face\n",
    "    return bond\n",
    "\n",
    "def bond_price(rate:float, the_bond: np.ndarray) -> float:\n",
    "    disc = np.array([1.0 / ((1.0 + rate) ** i) for i in range(1, the_bond.shape[0] + 1)])\n",
    "    return np.sum(disc * the_bond)\n",
    "\n",
    "def bond_yield(rate: float, the_bond: np.ndarray) -> float:\n",
    "    lower = 0.0\n",
    "    upper = 2.0\n",
    "    guess = 0.5 * (lower + upper)\n",
    "    tolerance = 10.0 ** -8\n",
    "    guess_price = bond_price(guess, the_bond)\n",
    "    diff = target_price - guess_price\n",
    "    tries = 0\n",
    "    \n",
    "    while abs(diff) >= tolerance:\n",
    "        if diff <= 0.0:\n",
    "            lower = guess\n",
    "        else:\n",
    "            upper = guess\n",
    "        guess = 0.5 * (lower + upper)\n",
    "        diff = target_price - bond_price(guess, the_bond)\n",
    "        tries += 1\n",
    "        \n",
    "    return guess\n",
    "\n",
    "face = 1000\n",
    "coupon_rate = .1\n",
    "maturity = 20\n",
    "frequency = 2\n",
    "\n",
    "a_bond = bond_factory(face, coupon_rate, frequency, maturity)\n",
    "\n",
    "the_price = bond_price(.05, a_bond)\n",
    "\n",
    "guess_rate = 0.001\n",
    "guess_price = bond_price(guess_rate, a_bond)\n",
    "increment = 0.001\n",
    "tries = 0\n",
    "target_price = 1063\n",
    "diff = target_price - guess_price\n",
    "tolerance = 10.0 ** -2\n",
    "\n",
    "while True:\n",
    "    if diff <= tolerance:\n",
    "        break\n",
    "    else:\n",
    "        tries += 1\n",
    "        print((tries, guess_rate, guess_price))\n",
    "        guess_rate =+ 0.001\n",
    "        guess_price = bond_price(guess_rate, a_bond)\n",
    "        diff = target_price - guess_price\n",
    "        \n",
    "result = bond_yield(1063, a_bond)\n",
    "print((tries, result * 2))"
   ]
  },
  {
   "cell_type": "markdown",
   "metadata": {},
   "source": [
    "## Problem 6 a)\n",
    "### Quinn issued 3 year semi-annual bonds at a coupon rate of 5%, and a YTM of 10%. What is the cost of the bond?\n"
   ]
  },
  {
   "cell_type": "code",
   "execution_count": 18,
   "metadata": {},
   "outputs": [
    {
     "name": "stdout",
     "output_type": "stream",
     "text": [
      "The bond price is: $873.11\n"
     ]
    }
   ],
   "source": [
    "import numpy as np\n",
    "\n",
    "def bond_factory(face: float, coupon: float, frequency: int, maturity: int) -> np.ndarray:\n",
    "    the_bond = np.full(maturity * frequency, (coupon * face) / frequency)\n",
    "    the_bond[-1]+= face\n",
    "    return the_bond\n",
    "\n",
    "def bond_price(rate: float, the_bond: np.ndarray) -> float:\n",
    "    disc = np.array([1.0 / ((1.0 + rate) ** i) for i in range(1, the_bond.shape[0] + 1)])\n",
    "    return np.sum(disc * the_bond)\n",
    "\n",
    "face_value = 1000.0\n",
    "coupon_rate = .05\n",
    "frequency = 2\n",
    "maturity = 3\n",
    "ytm = .10 / frequency\n",
    "# change ytm based on the ytm of the bond\n",
    "\n",
    "the_bond = bond_factory(face_value, coupon_rate, frequency, maturity)\n",
    "the_price = bond_price(ytm, the_bond)\n",
    "print(f\"The bond price is: ${the_price:,.2f}\")"
   ]
  },
  {
   "cell_type": "markdown",
   "metadata": {},
   "source": [
    "## Problem 6 b)\n",
    "### Grace issued a 45 year bond annual bond with a coupon rate of 3% and a YTM of 4%. What is the cost of the bond?"
   ]
  },
  {
   "cell_type": "code",
   "execution_count": 19,
   "metadata": {},
   "outputs": [
    {
     "name": "stdout",
     "output_type": "stream",
     "text": [
      "The bond price is: $792.07\n"
     ]
    }
   ],
   "source": [
    "import numpy as np\n",
    "\n",
    "def bond_factory(face: float, coupon: float, frequency: int, maturity: int) -> np.ndarray:\n",
    "    the_bond = np.full(maturity * frequency, (coupon * face) / frequency)\n",
    "    the_bond[-1]+= face\n",
    "    return the_bond\n",
    "\n",
    "def bond_price(rate: float, the_bond: np.ndarray) -> float:\n",
    "    disc = np.array([1.0 / ((1.0 + rate) ** i) for i in range(1, the_bond.shape[0] + 1)])\n",
    "    return np.sum(disc * the_bond)\n",
    "\n",
    "face_value = 1000.0\n",
    "coupon_rate = .03\n",
    "frequency = 2\n",
    "maturity = 45\n",
    "ytm = .04 / frequency\n",
    "# change ytm based on the ytm of the bond\n",
    "\n",
    "the_bond = bond_factory(face_value, coupon_rate, frequency, maturity)\n",
    "the_price = bond_price(ytm, the_bond)\n",
    "print(f\"The bond price is: ${the_price:,.2f}\")"
   ]
  },
  {
   "cell_type": "markdown",
   "metadata": {},
   "source": [
    "## Problem 7a)\n",
    "### TCL issued a 10 year bond with a coupon rate of 8%. The bonds make semi-annual payments. Th these bonds currently sell for 110% of par value, what is the ytm?\n",
    "\n"
   ]
  },
  {
   "cell_type": "code",
   "execution_count": 20,
   "metadata": {},
   "outputs": [
    {
     "name": "stdout",
     "output_type": "stream",
     "text": [
      "(0, 0.06617048546286242)\n"
     ]
    }
   ],
   "source": [
    "import numpy as np\n",
    "\n",
    "def bond_factory(face: float, coupon: float, frequency: int, maturity: float) -> np.ndarray:\n",
    "    bond = np.full(int(maturity * frequency), (coupon * face) / frequency)\n",
    "    bond[-1] += face\n",
    "    return bond\n",
    "\n",
    "def bond_price(rate:float, the_bond: np.ndarray) -> float:\n",
    "    disc = np.array([1.0 / ((1.0 + rate) ** i) for i in range(1, the_bond.shape[0] + 1)])\n",
    "    return np.sum(disc * the_bond)\n",
    "\n",
    "def bond_yield(rate: float, the_bond: np.ndarray) -> float:\n",
    "    lower = 0.0\n",
    "    upper = 2.0\n",
    "    guess = 0.5 * (lower + upper)\n",
    "    tolerance = 10.0 ** -8\n",
    "    guess_price = bond_price(guess, the_bond)\n",
    "    diff = target_price - guess_price\n",
    "    tries = 0\n",
    "    \n",
    "    while abs(diff) >= tolerance:\n",
    "        if diff <= 0.0:\n",
    "            lower = guess\n",
    "        else:\n",
    "            upper = guess\n",
    "        guess = 0.5 * (lower + upper)\n",
    "        diff = target_price - bond_price(guess, the_bond)\n",
    "        tries += 1\n",
    "        \n",
    "    return guess\n",
    "\n",
    "face = 1000\n",
    "coupon_rate = .08\n",
    "maturity = 10\n",
    "frequency = 2\n",
    "\n",
    "a_bond = bond_factory(face, coupon_rate, frequency, maturity)\n",
    "\n",
    "the_price = bond_price(.05, a_bond)\n",
    "\n",
    "guess_rate = 0.001\n",
    "guess_price = bond_price(guess_rate, a_bond)\n",
    "increment = 0.001\n",
    "tries = 0\n",
    "target_price = 1100\n",
    "diff = target_price - guess_price\n",
    "tolerance = 10.0 ** -2\n",
    "\n",
    "while True:\n",
    "    if diff <= tolerance:\n",
    "        break\n",
    "    else:\n",
    "        tries += 1\n",
    "        print((tries, guess_rate, guess_price))\n",
    "        guess_rate =+ 0.001\n",
    "        guess_price = bond_price(guess_rate, a_bond)\n",
    "        diff = target_price - guess_price\n",
    "        \n",
    "result = bond_yield(1100, a_bond)\n",
    "print((tries, result * 2))"
   ]
  },
  {
   "cell_type": "markdown",
   "metadata": {},
   "source": [
    "## Problem 7a)\n",
    "### Rockstar Recovery Lemonade issued a 17 year bond with a coupon rate of 13%. The bonds make semi-annual payments. The these bonds currently sell for 120% of par value, what is the ytm?"
   ]
  },
  {
   "cell_type": "code",
   "execution_count": 21,
   "metadata": {},
   "outputs": [
    {
     "name": "stdout",
     "output_type": "stream",
     "text": [
      "(0, 0.10459120000814437)\n"
     ]
    }
   ],
   "source": [
    "import numpy as np\n",
    "\n",
    "def bond_factory(face: float, coupon: float, frequency: int, maturity: float) -> np.ndarray:\n",
    "    bond = np.full(int(maturity * frequency), (coupon * face) / frequency)\n",
    "    bond[-1] += face\n",
    "    return bond\n",
    "\n",
    "def bond_price(rate:float, the_bond: np.ndarray) -> float:\n",
    "    disc = np.array([1.0 / ((1.0 + rate) ** i) for i in range(1, the_bond.shape[0] + 1)])\n",
    "    return np.sum(disc * the_bond)\n",
    "\n",
    "def bond_yield(rate: float, the_bond: np.ndarray) -> float:\n",
    "    lower = 0.0\n",
    "    upper = 2.0\n",
    "    guess = 0.5 * (lower + upper)\n",
    "    tolerance = 10.0 ** -8\n",
    "    guess_price = bond_price(guess, the_bond)\n",
    "    diff = target_price - guess_price\n",
    "    tries = 0\n",
    "    \n",
    "    while abs(diff) >= tolerance:\n",
    "        if diff <= 0.0:\n",
    "            lower = guess\n",
    "        else:\n",
    "            upper = guess\n",
    "        guess = 0.5 * (lower + upper)\n",
    "        diff = target_price - bond_price(guess, the_bond)\n",
    "        tries += 1\n",
    "        \n",
    "    return guess\n",
    "\n",
    "face = 1000\n",
    "coupon_rate = .13\n",
    "maturity = 17\n",
    "frequency = 2\n",
    "\n",
    "a_bond = bond_factory(face, coupon_rate, frequency, maturity)\n",
    "\n",
    "the_price = bond_price(.05, a_bond)\n",
    "\n",
    "guess_rate = 0.001\n",
    "guess_price = bond_price(guess_rate, a_bond)\n",
    "increment = 0.001\n",
    "tries = 0\n",
    "target_price = 1200\n",
    "diff = target_price - guess_price\n",
    "tolerance = 10.0 ** -2\n",
    "\n",
    "while True:\n",
    "    if diff <= tolerance:\n",
    "        break\n",
    "    else:\n",
    "        tries += 1\n",
    "        print((tries, guess_rate, guess_price))\n",
    "        guess_rate =+ 0.001\n",
    "        guess_price = bond_price(guess_rate, a_bond)\n",
    "        diff = target_price - guess_price\n",
    "        \n",
    "result = bond_yield(1200, a_bond)\n",
    "print((tries, result * 2))"
   ]
  },
  {
   "cell_type": "code",
   "execution_count": null,
   "metadata": {},
   "outputs": [],
   "source": []
  }
 ],
 "metadata": {
  "kernelspec": {
   "display_name": "Python 3",
   "language": "python",
   "name": "python3"
  },
  "language_info": {
   "codemirror_mode": {
    "name": "ipython",
    "version": 3
   },
   "file_extension": ".py",
   "mimetype": "text/x-python",
   "name": "python",
   "nbconvert_exporter": "python",
   "pygments_lexer": "ipython3",
   "version": "3.8.3"
  }
 },
 "nbformat": 4,
 "nbformat_minor": 4
}
